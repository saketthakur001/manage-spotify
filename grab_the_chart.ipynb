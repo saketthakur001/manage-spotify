
import spotifycharts as sc
chart_downloader = sc.ChartDownloader(name='viral50',
                                      periodicity='weekly',
                                      region_names=['germany', 'france'],
                                      begin_date='2019-12-30',
                                      end_date='2020-01-05',
                                      cpu_count=2,
                                      directory_path='data')
charts = {}
for region_name in chart_downloader.region_names:
    charts[region_name] = chart_downloader[region_name]
