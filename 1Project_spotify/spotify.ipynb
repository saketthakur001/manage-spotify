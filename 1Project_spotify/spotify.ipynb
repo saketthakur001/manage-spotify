{
 "cells": [
  {
   "cell_type": "code",
   "execution_count": 18,
   "metadata": {},
   "outputs": [],
   "source": [
    "import os\n",
    "import json\n",
    "\n",
    "loc = r'C:\\Users\\saket\\Desktop\\MyData'\n",
    "stream_his = open(loc+'\\\\'+'Stream_History.json', 'w+', encoding='utf-8')\n",
    "# steram_his.write('[\\n')\n",
    "\n",
    "def join_stream_his_json(loc):\n",
    "    files = os.listdir(loc)\n",
    "    string = '[\\n'\n",
    "    for i in files:\n",
    "        if i[:16] == 'StreamingHistory':\n",
    "            with open(loc+'\\\\'+i,'r+', encoding='utf-8') as f:\n",
    "                string += f.read()[1:-3]+'},\\n'\n",
    "    stream_his.write(string[:-2]+'\\n]')\n",
    "    # print(string[-3])\n",
    "join_stream_his_json(loc)"
   ]
  },
  {
   "cell_type": "code",
   "execution_count": 63,
   "metadata": {},
   "outputs": [],
   "source": [
    "import os\n",
    "import json\n",
    "\n",
    "loc = r'C:\\Users\\saket\\Desktop\\MyData'\n"
   ]
  }
 ],
 "metadata": {
  "interpreter": {
   "hash": "a4863ed22b1ffde5240afa19ce19a6719c13468c8841ef36dac7170077ab9680"
  },
  "kernelspec": {
   "display_name": "Python 3.8.3 64-bit ('base': conda)",
   "name": "python3"
  },
  "language_info": {
   "codemirror_mode": {
    "name": "ipython",
    "version": 3
   },
   "file_extension": ".py",
   "mimetype": "text/x-python",
   "name": "python",
   "nbconvert_exporter": "python",
   "pygments_lexer": "ipython3",
   "version": "3.8.3"
  },
  "orig_nbformat": 4
 },
 "nbformat": 4,
 "nbformat_minor": 2
}
